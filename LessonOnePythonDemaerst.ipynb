{
 "metadata": {
  "anaconda-cloud": {},
  "kernelspec": {
   "display_name": "Python [Root]",
   "language": "python",
   "name": "Python [Root]"
  },
  "language_info": {
   "codemirror_mode": {
    "name": "ipython",
    "version": 3
   },
   "file_extension": ".py",
   "mimetype": "text/x-python",
   "name": "python",
   "nbconvert_exporter": "python",
   "pygments_lexer": "ipython3",
   "version": "3.5.2"
  },
  "name": "",
  "signature": "sha256:c17d78f8c3635a932e038dc2d2f9432428528795076b6d2a1e079ac524a27cd9"
 },
 "nbformat": 3,
 "nbformat_minor": 0,
 "worksheets": [
  {
   "cells": [
    {
     "cell_type": "markdown",
     "metadata": {},
     "source": [
      "Welcome to the Jupyter notebook!\n",
      "\n",
      "This cell is a markdown cell, which means it contains text."
     ]
    },
    {
     "cell_type": "code",
     "collapsed": false,
     "input": [
      "#This cell is a code cell.  Pressing shift-enter or using the \"Run Cell\" button will evaluate the code in this cell.\n",
      "#The \"Run Cell\" button looks like a little black triangle.\n",
      "#Run the code in this cell.\n",
      "\n",
      "print(\"hello world\")"
     ],
     "language": "python",
     "metadata": {},
     "outputs": [
      {
       "output_type": "stream",
       "stream": "stdout",
       "text": [
        "hello world\n"
       ]
      }
     ],
     "prompt_number": 1
    },
    {
     "cell_type": "code",
     "collapsed": false,
     "input": [
      "#create a variable named a, and store the value 3+1 in it\n",
      "a = 3+1\n",
      "\n",
      "#display a\n",
      "print(a)"
     ],
     "language": "python",
     "metadata": {},
     "outputs": [
      {
       "output_type": "stream",
       "stream": "stdout",
       "text": [
        "4\n"
       ]
      }
     ],
     "prompt_number": 2
    },
    {
     "cell_type": "code",
     "collapsed": false,
     "input": [
      "#you can combine multiple objects in the same print statement\n",
      "\n",
      "print(\"three plus one is\", a)"
     ],
     "language": "python",
     "metadata": {},
     "outputs": [
      {
       "output_type": "stream",
       "stream": "stdout",
       "text": [
        "('three plus one is', 4)\n"
       ]
      }
     ],
     "prompt_number": 3
    },
    {
     "cell_type": "markdown",
     "metadata": {},
     "source": [
      "Change the cell below to output your first and last names."
     ]
    },
    {
     "cell_type": "code",
     "collapsed": false,
     "input": [
      "#Note that the usual Python convention is to separate words in variable names using underscores\n",
      "#Change the code below to store *your* first and last name.\n",
      "\n",
      "first_name = \"William\"\n",
      "last_name = \"Demarest\"\n",
      "print(first_name,last_name)"
     ],
     "language": "python",
     "metadata": {},
     "outputs": [
      {
       "output_type": "stream",
       "stream": "stdout",
       "text": [
        "('William', 'Demarest')\n"
       ]
      }
     ],
     "prompt_number": 5
    },
    {
     "cell_type": "code",
     "collapsed": false,
     "input": [
      "#We can use the tab or \"\\t\" and newline or \"\\n\" characters to format our output.\n",
      "#Adjust the output below to format the text so that your first and last name appear in the appropriate column.\n",
      "\n",
      "\n",
      "print (\"Given Name\",\"\\\\t\", \"Surname\", \"\\n\", first_name, \"\\\\t\", last_name)"
     ],
     "language": "python",
     "metadata": {},
     "outputs": [
      {
       "output_type": "stream",
       "stream": "stdout",
       "text": [
        "('Given Name', '\\\\t', 'Surname', '\\n', 'William', '\\\\t', 'Demarest')\n"
       ]
      }
     ],
     "prompt_number": 36
    },
    {
     "cell_type": "markdown",
     "metadata": {},
     "source": [
      "Insert a new cell below and change it to a markdown cell by using the dropdown menu at the top of the Jupyter notebook.\n",
      "\n",
      "In this markdown cell that you create, explain your process for modifiying the previous code cell above.\n",
      "\n",
      "In general, in your homework for this class, you may add mardown cells to explain or justify your programming choices."
     ]
    },
    {
     "cell_type": "markdown",
     "metadata": {},
     "source": [
      "Used \"\\\\for tab spacing for given and surname"
     ]
    },
    {
     "cell_type": "code",
     "collapsed": false,
     "input": [
      "#We can also combine strings using the + operator.\n",
      "#Adjust the output below so that it includes a space between your first and last name\n",
      "first_name = \"William\"\"\\t\"\n",
      "last_name = \"Demarest\"\n",
      "print first_name+last_name\n"
     ],
     "language": "python",
     "metadata": {},
     "outputs": [
      {
       "output_type": "stream",
       "stream": "stdout",
       "text": [
        "William\tDemarest\n"
       ]
      }
     ],
     "prompt_number": 39
    },
    {
     "cell_type": "markdown",
     "metadata": {},
     "source": [
      "You can see a list of all of the functions associated to an object by typing the object's name followed by a period, then hitting tab."
     ]
    },
    {
     "cell_type": "code",
     "collapsed": true,
     "input": [
      "#Find a function that will convert your given name to uppercase.\n",
      "first_name.capitalize"
     ],
     "language": "python",
     "metadata": {},
     "outputs": [
      {
       "metadata": {},
       "output_type": "pyout",
       "prompt_number": 46,
       "text": [
        "<function capitalize>"
       ]
      }
     ],
     "prompt_number": 46
    },
    {
     "cell_type": "markdown",
     "metadata": {},
     "source": [
      "Now that we have had a chance to try out a few Python commands, go ahead and create a markdown cell to answer the following questions.\n",
      "1. What is your name?\n",
      "2. Why are you interested in Data Science?\n",
      "3. Tell us a little bit about your programming experience.  What programming courses have you taken?  Do you use programming on the job, and if so, how?\n",
      "4.  Tell us a little bit about your statistics experience.  What statistics courses have you taken?  Do you use statistics on the job, and if so, how?\n",
      "5.  Do you have other experience with R or Python?\n",
      "6.  What do you hope to learn in this class?\n",
      "7.  Is there anything else you would like to share with us?"
     ]
    },
    {
     "cell_type": "markdown",
     "metadata": {},
     "source": [
      "1. William Demarest\n",
      "2. I currently work in datascience field looking for advancement of my skill set\n",
      "3. HTML, Fortran77, C++, SAS, and some distance learning in python and R\n",
      "3. Bachelors and graduate level stats, I use linear regression techniques on the job, for predictions of trends\n",
      "4. Distance learning Coursa and DataCamp\n",
      "5. Data Modeling"
     ]
    }
   ],
   "metadata": {}
  }
 ]
}